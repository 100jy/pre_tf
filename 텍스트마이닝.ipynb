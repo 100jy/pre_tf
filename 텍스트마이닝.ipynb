{
 "cells": [
  {
   "cell_type": "code",
   "execution_count": 24,
   "metadata": {},
   "outputs": [
    {
     "name": "stderr",
     "output_type": "stream",
     "text": [
      "C:\\Users\\163\\Anaconda3\\lib\\site-packages\\konlpy\\tag\\_okt.py:16: UserWarning: \"Twitter\" has changed to \"Okt\" since KoNLPy v0.4.5.\n",
      "  warn('\"Twitter\" has changed to \"Okt\" since KoNLPy v0.4.5.')\n"
     ]
    },
    {
     "name": "stdout",
     "output_type": "stream",
     "text": [
      "거리행렬로 보는 비유사성_제목\n",
      "[[1.         0.47491288 0.56357562 0.10789072 0.11938933]\n",
      " [0.47491288 1.         0.4986637  0.07402999 0.08191984]\n",
      " [0.56357562 0.4986637  1.         0.08785084 0.09721367]\n",
      " [0.10789072 0.07402999 0.08785084 1.         0.0921346 ]\n",
      " [0.11938933 0.08191984 0.09721367 0.0921346  1.        ]]\n",
      "거리행렬로 보는 비유사성_내용\n",
      "[[1.         0.37865098 0.21253122 0.02305467 0.04159713]\n",
      " [0.37865098 1.         0.28031215 0.0086018  0.03800591]\n",
      " [0.21253122 0.28031215 1.         0.01182553 0.02053818]\n",
      " [0.02305467 0.0086018  0.01182553 1.         0.05702178]\n",
      " [0.04159713 0.03800591 0.02053818 0.05702178 1.        ]]\n"
     ]
    }
   ],
   "source": [
    "##전기산업기사,남북연락소, 대북 식량지원 중단,\n",
    "\n",
    "from newspaper import Article\n",
    "from konlpy.tag import Kkma, Twitter\n",
    "from sklearn.feature_extraction.text import TfidfVectorizer\n",
    "\n",
    "#변수지정\n",
    "kkma = Kkma()\n",
    "twitter = Twitter()\n",
    "tfidf_vectorizer=TfidfVectorizer()\n",
    "\n",
    "#웹크로울링\n",
    "#'https://www1.president.go.kr/petitions/579781'-전기\n",
    "#'https://www1.president.go.kr/petitions/579786'-전기\n",
    "#'https://www1.president.go.kr/petitions/579791'-전기\n",
    "#https://www1.president.go.kr/petitions/579997-남북\n",
    "#https://www1.president.go.kr/petitions/580042'-대북\n",
    "\n",
    "url_list = ['https://www1.president.go.kr/petitions/579781',\n",
    "           'https://www1.president.go.kr/petitions/579786',\n",
    "           'https://www1.president.go.kr/petitions/579791',\n",
    "           'https://www1.president.go.kr/petitions/579997',\n",
    "           'https://www1.president.go.kr/petitions/580042' ]\n",
    "\n",
    "#null list\n",
    "list_title=[]\n",
    "list_contents=[]\n",
    "\n",
    "#단어단위 분리하여 리스트에 저장\n",
    "for url in url_list:\n",
    "    sample = Article(url,language='ko')\n",
    "    sample.download()\n",
    "    sample.parse()\n",
    "    \n",
    "    title_nouns =' '.join(twitter.nouns(sample.title))\n",
    "    contents_nouns =' '.join(twitter.nouns(sample.text))\n",
    "    list_title.append(title_nouns)\n",
    "    list_contents.append(contents_nouns)\n",
    "    \n",
    "#TF IDF \n",
    "vector=TfidfVectorizer(min_df=1)\n",
    "matrix_title=tfidf_vectorizer.fit_transform(list_title)\n",
    "matrix_contents=tfidf_vectorizer.fit_transform(list_contents)\n",
    "\n",
    "#거리행렬(m*m_trans) -> 문서간 비유사성 척도\n",
    "dist_title=(matrix_title*matrix_title.T)\n",
    "dist_contents=(matrix_contents*matrix_contents.T)\n",
    "\n",
    "print('거리행렬로 보는 비유사성_제목')\n",
    "print(dist_title.toarray())\n",
    "\n",
    "print('거리행렬로 보는 비유사성_내용')\n",
    "print(dist_contents.toarray())\n"
   ]
  }
 ],
 "metadata": {
  "kernelspec": {
   "display_name": "Python 3",
   "language": "python",
   "name": "python3"
  },
  "language_info": {
   "codemirror_mode": {
    "name": "ipython",
    "version": 3
   },
   "file_extension": ".py",
   "mimetype": "text/x-python",
   "name": "python",
   "nbconvert_exporter": "python",
   "pygments_lexer": "ipython3",
   "version": "3.6.5"
  }
 },
 "nbformat": 4,
 "nbformat_minor": 2
}
