{
 "cells": [
  {
   "cell_type": "code",
   "execution_count": 43,
   "metadata": {},
   "outputs": [
    {
     "name": "stdout",
     "output_type": "stream",
     "text": [
      "Extracting ./mnist/data/train-images-idx3-ubyte.gz\n",
      "Extracting ./mnist/data/train-labels-idx1-ubyte.gz\n",
      "Extracting ./mnist/data/t10k-images-idx3-ubyte.gz\n",
      "Extracting ./mnist/data/t10k-labels-idx1-ubyte.gz\n",
      "epoch: 0005 Avg.cost= 0.070333\n",
      "epoch: 0010 Avg.cost= 0.037476\n",
      "epoch: 0015 Avg.cost= 0.026135\n",
      "epoch: 0020 Avg.cost= 0.018579\n",
      "epoch: 0025 Avg.cost= 0.016418\n",
      "epoch: 0030 Avg.cost= 0.015973\n",
      "학습완료!\n",
      "정확도: 0.9838\n",
      "Label: [4]\n",
      "prediction: [4]\n"
     ]
    },
    {
     "data": {
      "image/png": "[encoded data removed]",
      "text/plain": [
       "<Figure size 432x288 with 1 Axes>"
      ]
     },
     "metadata": {},
     "output_type": "display_data"
    }
   ],
   "source": [
    "import tensorflow as tf\n",
    "import numpy as np\n",
    "import matplotlib.pyplot as plt\n",
    "#mnist 데이터 불러오기\n",
    "from tensorflow.examples.tutorials.mnist import input_data\n",
    "mnist= input_data.read_data_sets(\"./mnist/data/\",one_hot=True)\n",
    "\n",
    "##모델구성(dropout 적용)\n",
    "X=tf.placeholder(tf.float32,[None,784])\n",
    "Y=tf.placeholder(tf.float32,[None,10])\n",
    "prob=tf.placeholder(tf.float32)\n",
    "\n",
    "with tf.name_scope('layer1'):\n",
    "    W1=tf.Variable (tf.random_normal([784,256],stddev=0.01))\n",
    "    L1=tf.nn.relu(tf.matmul(X,W1))\n",
    "    L1=tf.nn.dropout(L1,prob)\n",
    "with tf.name_scope('layer2'):\n",
    "    W2=tf.Variable (tf.random_normal([256,256],stddev=0.01))\n",
    "    L2=tf.nn.relu(tf.matmul(L1,W2))\n",
    "    L2=tf.nn.dropout(L2,prob)\n",
    "with tf.name_scope('output'):\n",
    "    W3=tf.Variable(tf.random_normal([256,10],stddev=0.01))\n",
    "    model=tf.matmul(L2,W3)\n",
    "\n",
    "with tf.name_scope('optimizer'):\n",
    "cost=tf.reduce_mean(tf.nn.softmax_cross_entropy_with_logits_v2(logits=model,labels=Y))\n",
    "optimizer=tf.train.AdamOptimizer(0.001).minimize(cost)\n",
    "\n",
    "#신경망 모델 학습\n",
    "init=tf.global_variables_initializer()\n",
    "sess=tf.Session()\n",
    "sess.run(init)\n",
    "\n",
    "batch_size=100\n",
    "total_batch=int(mnist.train.num_examples/batch_size)\n",
    "\n",
    "for epoch in range(30):\n",
    "    total_cost=0\n",
    "    \n",
    "    for i in range(total_batch):\n",
    "        batch_xs,batch_ys=mnist.train.next_batch(batch_size)\n",
    "        \n",
    "        _,cost_val=sess.run([optimizer,cost],feed_dict={X:batch_xs,Y:batch_ys,\n",
    "                                                                    prob:0.8})\n",
    "        total_cost += cost_val\n",
    "    if(epoch%5==4):    \n",
    "        print('epoch:','%04d'%(epoch+1),\n",
    "                      'Avg.cost=','{:3f}'.format(total_cost/total_batch))\n",
    "\n",
    "print(\"학습완료!\")\n",
    "\n",
    "is_correct=tf.equal(tf.argmax(model,1),tf.argmax(Y,1))\n",
    "accuracy=tf.reduce_mean(tf.cast(is_correct,tf.float32))\n",
    "print('정확도:',sess.run(accuracy,feed_dict={X:mnist.test.images,\n",
    "                                             Y:mnist.test.labels,\n",
    "                                                           prob:1}))\n",
    "\n",
    "import matplotlib.pyplot as plt\n",
    "import random\n",
    "\n",
    "r=random.randint(0, mnist.test.num_examples - 1)\n",
    "print(\"Label:\",sess.run(tf.argmax(mnist.test.labels[r:r+1],1)))\n",
    "print(\"prediction:\", sess.run(tf.argmax(model,1),\n",
    "                                  feed_dict={X:mnist.test.images[r:r+1],\n",
    "                                                                prob:1}))\n",
    "\n",
    "plt.imshow(mnist.test.images[r:r+1].reshape(28,28),\n",
    "               cmap='Greys',interpolation='nearest')\n",
    "plt.show()\n",
    "\n",
    "\n",
    "\n"
   ]
  },
  {
   "cell_type": "code",
   "execution_count": 41,
   "metadata": {},
   "outputs": [
    {
     "ename": "AttributeError",
     "evalue": "'numpy.ndarray' object has no attribute 'type'",
     "output_type": "error",
     "traceback": [
      "\u001b[1;31m---------------------------------------------------------------------------\u001b[0m",
      "\u001b[1;31mAttributeError\u001b[0m                            Traceback (most recent call last)",
      "\u001b[1;32m<ipython-input-41-1c54b2f352f4>\u001b[0m in \u001b[0;36m<module>\u001b[1;34m()\u001b[0m\n\u001b[1;32m----> 1\u001b[1;33m \u001b[0mmnist\u001b[0m\u001b[1;33m.\u001b[0m\u001b[0mtest\u001b[0m\u001b[1;33m.\u001b[0m\u001b[0mimages\u001b[0m\u001b[1;33m[\u001b[0m\u001b[1;36m5\u001b[0m\u001b[1;33m:\u001b[0m\u001b[1;36m6\u001b[0m\u001b[1;33m]\u001b[0m\u001b[1;33m.\u001b[0m\u001b[0mtype\u001b[0m\u001b[1;33m\u001b[0m\u001b[0m\n\u001b[0m",
      "\u001b[1;31mAttributeError\u001b[0m: 'numpy.ndarray' object has no attribute 'type'"
     ]
    }
   ],
   "source": []
  }
 ],
 "metadata": {
  "kernelspec": {
   "display_name": "Python 3",
   "language": "python",
   "name": "python3"
  },
  "language_info": {
   "codemirror_mode": {
    "name": "ipython",
    "version": 3
   },
   "file_extension": ".py",
   "mimetype": "text/x-python",
   "name": "python",
   "nbconvert_exporter": "python",
   "pygments_lexer": "ipython3",
   "version": "3.6.5"
  }
 },
 "nbformat": 4,
 "nbformat_minor": 2
}
